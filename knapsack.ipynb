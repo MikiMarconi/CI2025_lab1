{
 "cells": [
  {
   "cell_type": "markdown",
   "id": "11fa4375",
   "metadata": {},
   "source": [
    "Copyright **`(c)`** 2025 Giovanni Squillero `<giovanni.squillero@polito.it>`  \n",
    "[`https://github.com/squillero/computational-intelligence`](https://github.com/squillero/computational-intelligence)  \n",
    "Free under certain conditions — see the [`license`](https://github.com/squillero/computational-intelligence/blob/master/LICENSE.md) for details.  "
   ]
  },
  {
   "cell_type": "code",
   "execution_count": 12,
   "id": "c0882a9f",
   "metadata": {},
   "outputs": [],
   "source": [
    "import numpy as np\n",
    "from collections import namedtuple"
   ]
  },
  {
   "cell_type": "code",
   "execution_count": 13,
   "id": "3adb670e",
   "metadata": {},
   "outputs": [],
   "source": [
    "NUM_KNAPSACKS = 3\n",
    "NUM_ITEMS = 10\n",
    "NUM_DIMENSIONS = 2"
   ]
  },
  {
   "cell_type": "code",
   "execution_count": 14,
   "id": "2db51e99",
   "metadata": {},
   "outputs": [],
   "source": [
    "VALUES = np.random.randint(0, 100, size=NUM_ITEMS)\n",
    "WEIGHTS = np.random.randint(0, 100, size=(NUM_ITEMS, NUM_DIMENSIONS))\n",
    "CONSTRAINTS = np.random.randint(\n",
    "    0, 100 * NUM_ITEMS // NUM_KNAPSACKS, size=(NUM_KNAPSACKS, NUM_DIMENSIONS)\n",
    ")"
   ]
  },
  {
   "cell_type": "code",
   "execution_count": 15,
   "id": "15da2136",
   "metadata": {},
   "outputs": [
    {
     "data": {
      "text/plain": [
       "array([[153, 119],\n",
       "       [326,  50],\n",
       "       [106,  19]], dtype=int32)"
      ]
     },
     "execution_count": 15,
     "metadata": {},
     "output_type": "execute_result"
    }
   ],
   "source": [
    "CONSTRAINTS"
   ]
  },
  {
   "cell_type": "markdown",
   "id": "76d0e8db",
   "metadata": {},
   "source": [
    "# Solver"
   ]
  },
  {
   "cell_type": "code",
   "execution_count": 16,
   "id": "bf11b054",
   "metadata": {},
   "outputs": [],
   "source": [
    "ProblemParam = namedtuple(\"Problem\", [\"values\", \"weights\", \"constraints\", \"num_knapsacks\", \"num_items\", \"num_dimensions\"])\n",
    "\n",
    "# Random local perturbation of a solution.\n",
    "# - Performs a random flip (add/remove) of a single item in a knapsack.\n",
    "# - Optionally performs a random swap between two knapsacks.\n",
    "def modify_solution(solution: np.ndarray, prob: ProblemParam) -> np.ndarray:\n",
    "    nk = prob.num_knapsacks\n",
    "    ni = prob.num_items\n",
    "    k = np.random.randint(0, nk)\n",
    "    item = np.random.randint(0, ni)\n",
    "    if solution[k, item]:\n",
    "        solution[k, item] = False\n",
    "    elif not np.any(solution[:, item]):\n",
    "        solution[k, item] = True\n",
    "\n",
    "    if nk >= 2:\n",
    "        k1, k2 = np.random.choice(nk, size=2, replace=False)\n",
    "        i1 = np.random.randint(0, ni)\n",
    "        i2 = np.random.randint(0, ni)\n",
    "        solution[k1, i1], solution[k2, i2] = solution[k2, i2], solution[k1, i1]\n",
    "\n",
    "    return solution\n",
    "\n",
    "# Feasibility test for a solution.\n",
    "# - Ensures each item is assigned to at most one knapsack.\n",
    "# - Ensures each knapsack's weight sums do not exceed its per-dimension constraints.\n",
    "# - Returns True if solution satisfies both checks, False otherwise.\n",
    "def check_feasible(solution: np.ndarray, prob: ProblemParam) -> bool:\n",
    "    if not np.all(solution.sum(axis=0) <= 1):\n",
    "        return False\n",
    "    for k in range(prob.num_knapsacks):\n",
    "        if solution[k].any():\n",
    "            if np.any(prob.weights[solution[k]].sum(axis=0) > prob.constraints[k]):\n",
    "                return False\n",
    "    return True\n",
    "\n",
    "# Fitness evaluator with penalty for infeasible solutions.\n",
    "# - If infeasible returns a strong negative penalty.\n",
    "# - Otherwise returns the total value of all assigned items (as float).\n",
    "def fitness_score(solution: np.ndarray, prob: ProblemParam) -> float:\n",
    "    if not check_feasible(solution, prob):\n",
    "        return -100\n",
    "    return float(prob.values[np.any(solution, axis=0)].sum())\n",
    "\n",
    "# Repair operator that modifies a solution until it becomes feasible.\n",
    "# - Repeatedly removes items or resolves duplicates until all constraints are respected.\n",
    "def make_feasible(solution: np.ndarray, prob: ProblemParam) -> np.ndarray:\n",
    "    while not check_feasible(solution, prob):\n",
    "        k = np.random.randint(0, prob.num_knapsacks)\n",
    "        items_in_k = np.where(solution[k])[0]\n",
    "        if items_in_k.size > 0:\n",
    "            item_to_remove = np.random.choice(items_in_k)\n",
    "            solution[k, item_to_remove] = False\n",
    "            continue\n",
    "        duplicates = np.where(solution.sum(axis=0) > 1)[0]\n",
    "        if duplicates.size > 0:\n",
    "            item = np.random.choice(duplicates)\n",
    "            ks = np.where(solution[:, item])[0]\n",
    "            kremove = np.random.choice(ks)\n",
    "            solution[kremove, item] = False\n",
    "            continue\n",
    "        k_rand = np.random.randint(0, prob.num_knapsacks)\n",
    "        items_rand = np.where(solution[k_rand])[0]\n",
    "        if items_rand.size > 0:\n",
    "            solution[k_rand, np.random.choice(items_rand)] = False\n",
    "    return solution\n",
    "\n",
    "# Simulated-annealing style solver.\n",
    "# - prob: ProblemParam with instance data.\n",
    "# - initial_solution: optional starting boolean matrix (knapsacks x items).\n",
    "# - iteration: number of iterations.\n",
    "# - temperature: initial temperature for acceptance probability.\n",
    "# - Returns (best_solution, best_fitness).\n",
    "def solve_problem(prob: ProblemParam, initial_solution: np.ndarray | None = None,\n",
    "                  iteration: int = 5000, temperature: float = 100.0):\n",
    "    nk = prob.num_knapsacks\n",
    "    ni = prob.num_items\n",
    "\n",
    "    if initial_solution is None:\n",
    "        cur_solution = np.zeros((nk, ni), dtype=bool)\n",
    "    else:\n",
    "        cur_solution = initial_solution.copy()\n",
    "\n",
    "    cur_solution = make_feasible(cur_solution, prob)\n",
    "\n",
    "    best_solution = cur_solution.copy()\n",
    "    best_fitness = fitness_score(best_solution, prob)\n",
    "    cur_fitness = fitness_score(cur_solution, prob)\n",
    "\n",
    "    for i in range(iteration):\n",
    "        if i % 200 == 0:\n",
    "            temperature *= 0.9\n",
    "        \n",
    "        new_solution = modify_solution(cur_solution.copy(), prob)\n",
    "        new_fit = fitness_score(new_solution, prob)\n",
    "\n",
    "        delta = new_fit - cur_fitness\n",
    "\n",
    "        if delta > 0 or np.random.rand() < np.exp(delta / temperature):\n",
    "            if(new_fit > 0):\n",
    "                cur_solution = new_solution.copy()\n",
    "                cur_fitness = new_fit\n",
    "                if new_fit > best_fitness:\n",
    "                    best_solution = new_solution.copy()\n",
    "                    best_fitness = new_fit\n",
    "        \n",
    "    print(f\"Final best fitness: {best_fitness}\")\n",
    "    print(f\"Final best solution: {best_solution}\")\n",
    "    return best_solution, best_fitness"
   ]
  },
  {
   "cell_type": "markdown",
   "id": "8e0e0673",
   "metadata": {},
   "source": [
    "## TEST PROBLEMS"
   ]
  },
  {
   "cell_type": "code",
   "execution_count": 17,
   "id": "5595db9c",
   "metadata": {},
   "outputs": [],
   "source": [
    "# Problem 1:\n",
    "rng = np.random.default_rng(seed=42)\n",
    "NUM_KNAPSACKS = 3\n",
    "NUM_ITEMS = 20\n",
    "NUM_DIMENSIONS = 2\n",
    "VALUES = rng.integers(0, 100, size=NUM_ITEMS)\n",
    "WEIGHTS = rng.integers(0, 100, size=(NUM_ITEMS, NUM_DIMENSIONS))\n",
    "CONSTRAINTS = rng.integers(\n",
    "    0, 100 * NUM_ITEMS // NUM_KNAPSACKS, size=(NUM_KNAPSACKS, NUM_DIMENSIONS)\n",
    ")"
   ]
  },
  {
   "cell_type": "code",
   "execution_count": 18,
   "id": "a0a16e68",
   "metadata": {},
   "outputs": [
    {
     "name": "stdout",
     "output_type": "stream",
     "text": [
      "Final best fitness: 1065.0\n",
      "Final best solution: [[False False  True False  True False False  True False  True  True  True\n",
      "  False  True  True False False  True  True False]\n",
      " [ True  True False  True False False  True False  True False False False\n",
      "   True False False False False False False False]\n",
      " [False False False False False  True False False False False False False\n",
      "  False False False  True  True False False  True]]\n"
     ]
    }
   ],
   "source": [
    "TEMP = 100.0\n",
    "params = ProblemParam(\n",
    "    values=VALUES,\n",
    "    weights=WEIGHTS,\n",
    "    constraints=CONSTRAINTS,\n",
    "    num_knapsacks=NUM_KNAPSACKS,        \n",
    "    num_items=NUM_ITEMS,\n",
    "    num_dimensions=NUM_DIMENSIONS\n",
    ")\n",
    "\n",
    "solution, fit = solve_problem(prob=params, temperature=TEMP)"
   ]
  },
  {
   "cell_type": "code",
   "execution_count": 19,
   "id": "9eed08a0",
   "metadata": {},
   "outputs": [],
   "source": [
    "# Problem 2:\n",
    "rng = np.random.default_rng(seed=42)\n",
    "NUM_KNAPSACKS = 10\n",
    "NUM_ITEMS = 100\n",
    "NUM_DIMENSIONS = 10\n",
    "VALUES = rng.integers(0, 1000, size=NUM_ITEMS)\n",
    "WEIGHTS = rng.integers(0, 1000, size=(NUM_ITEMS, NUM_DIMENSIONS))\n",
    "CONSTRAINTS = rng.integers(\n",
    "    1000 * 2, 1000 * NUM_ITEMS // NUM_KNAPSACKS, size=(NUM_KNAPSACKS, NUM_DIMENSIONS)\n",
    ")"
   ]
  },
  {
   "cell_type": "code",
   "execution_count": 20,
   "id": "f1ca12ff",
   "metadata": {},
   "outputs": [
    {
     "name": "stdout",
     "output_type": "stream",
     "text": [
      "Final best fitness: 34085.0\n",
      "Final best solution: [[False False False False False False False False False False False False\n",
      "   True False  True False False False False False  True False False False\n",
      "  False False False False False False False False False False False  True\n",
      "  False False False False False False False False False False False False\n",
      "  False False False False False False False False False False False False\n",
      "   True False False False False False False False False False False False\n",
      "  False False False False  True False False False False False False False\n",
      "  False False False False False False False False False False False False\n",
      "  False False False  True]\n",
      " [False False False False  True False False False False False False False\n",
      "  False False False False False  True  True False False False False False\n",
      "  False False False False False False False False False False False False\n",
      "   True False False False False False False  True False False False False\n",
      "  False  True False False False False  True False False False False False\n",
      "  False False False False False False False False False False False False\n",
      "  False False False False False False False False False False False False\n",
      "  False False False False False False False False False False False False\n",
      "  False False False False]\n",
      " [False False False False False False False False False False False False\n",
      "  False False False False False False False False False False False False\n",
      "  False False False False False False False False False False False False\n",
      "  False False False False False False False False False False False False\n",
      "  False False False  True False False False False  True  True False False\n",
      "  False False False False False False False False False  True False False\n",
      "  False False False False False False False False False False False False\n",
      "  False False False False False False False False  True False False False\n",
      "  False False False False]\n",
      " [False False False False False False False  True False False False False\n",
      "  False False False  True False False False  True False False False False\n",
      "  False False False False False False False False False False False False\n",
      "  False False False False False False False False False False False  True\n",
      "  False False False False False False False False False False False False\n",
      "  False False  True False False False False False False False False  True\n",
      "  False False False False False False False False False False False False\n",
      "  False False False False False False False False False False False False\n",
      "  False False False False]\n",
      " [False False False False False False False False  True False False False\n",
      "  False False False False False False False False False False  True False\n",
      "  False False False False False False False False False False False False\n",
      "  False False False False  True False False False False False False False\n",
      "  False False False False False False False False False False False False\n",
      "  False False False  True False False False False False False  True False\n",
      "  False False  True  True False  True False False False False  True False\n",
      "  False False False False False False False  True False False False False\n",
      "  False False False False]\n",
      " [False  True False False False False False False False False False False\n",
      "  False False False False False False False False False False False False\n",
      "  False  True False False False False False  True False False False False\n",
      "  False False False False False False False False  True False False False\n",
      "  False False False False False False False False False False False False\n",
      "  False False False False False False False False  True False False False\n",
      "  False False False False False False False False False False False False\n",
      "  False False  True False False False False False False False False False\n",
      "  False  True False False]\n",
      " [False False False False False  True False False False False False  True\n",
      "  False False False False  True False False False False False False False\n",
      "   True False False False False False False False False False False False\n",
      "  False False  True False False False False False False False False False\n",
      "  False False False False False False False False False False False False\n",
      "  False False False False False False False False False False False False\n",
      "  False False False False False False  True False False False False False\n",
      "  False False False False False False False False False False False False\n",
      "  False False False False]\n",
      " [ True False False False False False False False False False False False\n",
      "  False False False False False False False False False False False False\n",
      "  False False False False  True  True False False False False  True False\n",
      "  False False False False False False False False False False False False\n",
      "  False False False False False False False False False False False False\n",
      "  False False False False False False False False False False False False\n",
      "  False False False False False False False False False False False False\n",
      "  False False False False False False False False False False False False\n",
      "  False False False False]\n",
      " [False False False False False False False False False False False False\n",
      "  False  True False False False False False False False False False False\n",
      "  False False False False False False  True False False False False False\n",
      "  False False False False False False False False False False False False\n",
      "  False False False False False False False False False False False False\n",
      "  False False False False  True False False False False False False False\n",
      "   True False False False False False False False False False False False\n",
      "  False  True False  True False False False False False False  True False\n",
      "  False False False False]\n",
      " [False False False False False False  True False False False False False\n",
      "  False False False False False False False False False False False False\n",
      "  False False False  True False False False False False False False False\n",
      "  False False False False False False False False False False  True False\n",
      "  False False  True False False False False False False False False False\n",
      "  False False False False False False False  True False False False False\n",
      "  False False False False False False False False  True False False False\n",
      "  False False False False False False False False False False False False\n",
      "  False False  True False]]\n"
     ]
    }
   ],
   "source": [
    "TEMP = 200.0\n",
    "params = ProblemParam(\n",
    "    values=VALUES,\n",
    "    weights=WEIGHTS,\n",
    "    constraints=CONSTRAINTS,\n",
    "    num_knapsacks=NUM_KNAPSACKS,        \n",
    "    num_items=NUM_ITEMS,\n",
    "    num_dimensions=NUM_DIMENSIONS\n",
    ")\n",
    "\n",
    "solution, fit = solve_problem(prob=params, temperature=TEMP)"
   ]
  },
  {
   "cell_type": "code",
   "execution_count": 21,
   "id": "117380d6",
   "metadata": {},
   "outputs": [],
   "source": [
    "# Problem 3:\n",
    "rng = np.random.default_rng(seed=42)\n",
    "NUM_KNAPSACKS = 100\n",
    "NUM_ITEMS = 5000\n",
    "NUM_DIMENSIONS = 100\n",
    "VALUES = rng.integers(0, 1000, size=NUM_ITEMS)\n",
    "WEIGHTS = rng.integers(0, 1000, size=(NUM_ITEMS, NUM_DIMENSIONS))\n",
    "CONSTRAINTS = rng.integers(\n",
    "    1000 * 10, 1000 * 2 * NUM_ITEMS // NUM_KNAPSACKS, size=(NUM_KNAPSACKS, NUM_DIMENSIONS)\n",
    ")"
   ]
  },
  {
   "cell_type": "code",
   "execution_count": 22,
   "id": "2bbe1e02",
   "metadata": {},
   "outputs": [
    {
     "name": "stdout",
     "output_type": "stream",
     "text": [
      "Final best fitness: 1058705.0\n",
      "Final best solution: [[False False False ... False False False]\n",
      " [False False False ... False False False]\n",
      " [False False False ... False False False]\n",
      " ...\n",
      " [False False False ... False False False]\n",
      " [False False False ... False False False]\n",
      " [False False False ... False False False]]\n"
     ]
    }
   ],
   "source": [
    "TEMP = 300.0\n",
    "params = ProblemParam(\n",
    "    values=VALUES,\n",
    "    weights=WEIGHTS,\n",
    "    constraints=CONSTRAINTS,\n",
    "    num_knapsacks=NUM_KNAPSACKS,        \n",
    "    num_items=NUM_ITEMS,\n",
    "    num_dimensions=NUM_DIMENSIONS\n",
    ")\n",
    "\n",
    "solution, fit = solve_problem(prob=params, temperature=TEMP)"
   ]
  }
 ],
 "metadata": {
  "kernelspec": {
   "display_name": "Python 3",
   "language": "python",
   "name": "python3"
  },
  "language_info": {
   "codemirror_mode": {
    "name": "ipython",
    "version": 3
   },
   "file_extension": ".py",
   "mimetype": "text/x-python",
   "name": "python",
   "nbconvert_exporter": "python",
   "pygments_lexer": "ipython3",
   "version": "3.11.9"
  }
 },
 "nbformat": 4,
 "nbformat_minor": 5
}
